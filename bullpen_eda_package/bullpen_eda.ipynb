{
 "cells": [
  {
   "cell_type": "markdown",
   "id": "7eb60636",
   "metadata": {},
   "source": [
    "# Bullpen Management EDA Notebook\n",
    "Purposeful EDA demo."
   ]
  },
  {
   "cell_type": "code",
   "execution_count": 1,
   "id": "a64eaa1b",
   "metadata": {},
   "outputs": [
    {
     "ename": "ModuleNotFoundError",
     "evalue": "No module named 'pandas'",
     "output_type": "error",
     "traceback": [
      "\u001b[31m---------------------------------------------------------------------------\u001b[39m",
      "\u001b[31mModuleNotFoundError\u001b[39m                       Traceback (most recent call last)",
      "\u001b[36mCell\u001b[39m\u001b[36m \u001b[39m\u001b[32mIn[1]\u001b[39m\u001b[32m, line 1\u001b[39m\n\u001b[32m----> \u001b[39m\u001b[32m1\u001b[39m \u001b[38;5;28;01mimport\u001b[39;00m\u001b[38;5;250m \u001b[39m\u001b[34;01mpandas\u001b[39;00m\u001b[38;5;250m \u001b[39m\u001b[38;5;28;01mas\u001b[39;00m\u001b[38;5;250m \u001b[39m\u001b[34;01mpd\u001b[39;00m; df=pd.read_csv(\u001b[33m'\u001b[39m\u001b[33m/mnt/data/bullpen_eda/sample_statcast_like.csv\u001b[39m\u001b[33m'\u001b[39m); df.head()\n",
      "\u001b[31mModuleNotFoundError\u001b[39m: No module named 'pandas'"
     ]
    }
   ],
   "source": [
    "import pandas as pd; df=pd.read_csv('/mnt/data/bullpen_eda/sample_statcast_like.csv'); df.head()"
   ]
  },
  {
   "cell_type": "markdown",
   "id": "b6c04aa8",
   "metadata": {},
   "source": [
    "## Rest vs Scoreless Rate"
   ]
  },
  {
   "cell_type": "code",
   "execution_count": null,
   "id": "c36a6b89",
   "metadata": {},
   "outputs": [],
   "source": [
    "df.groupby('rest_days')['scoreless'].mean()"
   ]
  },
  {
   "cell_type": "markdown",
   "id": "31311106",
   "metadata": {},
   "source": [
    "## Platoon Advantage vs Scoreless Rate"
   ]
  },
  {
   "cell_type": "code",
   "execution_count": null,
   "id": "9b43db10",
   "metadata": {},
   "outputs": [],
   "source": [
    "df.groupby('platoon_advantage')['scoreless'].mean()"
   ]
  }
 ],
 "metadata": {
  "kernelspec": {
   "display_name": "Python 3",
   "language": "python",
   "name": "python3"
  },
  "language_info": {
   "codemirror_mode": {
    "name": "ipython",
    "version": 3
   },
   "file_extension": ".py",
   "mimetype": "text/x-python",
   "name": "python",
   "nbconvert_exporter": "python",
   "pygments_lexer": "ipython3",
   "version": "3.11.9"
  },
  "vscode": {
   "interpreter": {
    "hash": "aee8b7b246df8f9039afb4144a1f6fd8d2ca17a180786b69acc140d282b71a49"
   }
  }
 },
 "nbformat": 4,
 "nbformat_minor": 5
}
