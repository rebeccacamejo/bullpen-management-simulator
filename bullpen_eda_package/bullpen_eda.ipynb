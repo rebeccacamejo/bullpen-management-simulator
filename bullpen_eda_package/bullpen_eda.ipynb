{
 "cells": [
  {
   "cell_type": "markdown",
   "id": "7eb60636",
   "metadata": {},
   "source": [
    "# Bullpen Management EDA Notebook\n",
    "Purposeful EDA demo."
   ]
  },
  {
   "cell_type": "code",
   "execution_count": 5,
   "id": "a64eaa1b",
   "metadata": {},
   "outputs": [
    {
     "data": {
      "text/html": [
       "<div>\n",
       "<style scoped>\n",
       "    .dataframe tbody tr th:only-of-type {\n",
       "        vertical-align: middle;\n",
       "    }\n",
       "\n",
       "    .dataframe tbody tr th {\n",
       "        vertical-align: top;\n",
       "    }\n",
       "\n",
       "    .dataframe thead th {\n",
       "        text-align: right;\n",
       "    }\n",
       "</style>\n",
       "<table border=\"1\" class=\"dataframe\">\n",
       "  <thead>\n",
       "    <tr style=\"text-align: right;\">\n",
       "      <th></th>\n",
       "      <th>game_date</th>\n",
       "      <th>team</th>\n",
       "      <th>opponent</th>\n",
       "      <th>pitcher_id</th>\n",
       "      <th>pitcher_hand</th>\n",
       "      <th>batter_hand</th>\n",
       "      <th>rest_days</th>\n",
       "      <th>last_outing_pitches</th>\n",
       "      <th>platoon_advantage</th>\n",
       "      <th>leverage_index</th>\n",
       "      <th>score_diff</th>\n",
       "      <th>scoreless</th>\n",
       "      <th>runs_allowed</th>\n",
       "    </tr>\n",
       "  </thead>\n",
       "  <tbody>\n",
       "    <tr>\n",
       "      <th>0</th>\n",
       "      <td>2023-07-10</td>\n",
       "      <td>ATL</td>\n",
       "      <td>HOU</td>\n",
       "      <td>P015</td>\n",
       "      <td>L</td>\n",
       "      <td>R</td>\n",
       "      <td>2</td>\n",
       "      <td>18</td>\n",
       "      <td>0</td>\n",
       "      <td>1.07</td>\n",
       "      <td>2</td>\n",
       "      <td>0</td>\n",
       "      <td>0</td>\n",
       "    </tr>\n",
       "    <tr>\n",
       "      <th>1</th>\n",
       "      <td>2023-03-31</td>\n",
       "      <td>ATL</td>\n",
       "      <td>NYY</td>\n",
       "      <td>P001</td>\n",
       "      <td>R</td>\n",
       "      <td>R</td>\n",
       "      <td>3</td>\n",
       "      <td>24</td>\n",
       "      <td>1</td>\n",
       "      <td>0.42</td>\n",
       "      <td>5</td>\n",
       "      <td>0</td>\n",
       "      <td>0</td>\n",
       "    </tr>\n",
       "    <tr>\n",
       "      <th>2</th>\n",
       "      <td>2023-10-03</td>\n",
       "      <td>HOU</td>\n",
       "      <td>BOS</td>\n",
       "      <td>P012</td>\n",
       "      <td>R</td>\n",
       "      <td>R</td>\n",
       "      <td>2</td>\n",
       "      <td>36</td>\n",
       "      <td>1</td>\n",
       "      <td>0.31</td>\n",
       "      <td>-2</td>\n",
       "      <td>0</td>\n",
       "      <td>0</td>\n",
       "    </tr>\n",
       "    <tr>\n",
       "      <th>3</th>\n",
       "      <td>2023-04-07</td>\n",
       "      <td>NYY</td>\n",
       "      <td>HOU</td>\n",
       "      <td>P002</td>\n",
       "      <td>R</td>\n",
       "      <td>R</td>\n",
       "      <td>2</td>\n",
       "      <td>7</td>\n",
       "      <td>1</td>\n",
       "      <td>1.62</td>\n",
       "      <td>-5</td>\n",
       "      <td>1</td>\n",
       "      <td>0</td>\n",
       "    </tr>\n",
       "    <tr>\n",
       "      <th>4</th>\n",
       "      <td>2023-07-11</td>\n",
       "      <td>ATL</td>\n",
       "      <td>NYY</td>\n",
       "      <td>P006</td>\n",
       "      <td>R</td>\n",
       "      <td>R</td>\n",
       "      <td>0</td>\n",
       "      <td>17</td>\n",
       "      <td>1</td>\n",
       "      <td>1.42</td>\n",
       "      <td>2</td>\n",
       "      <td>0</td>\n",
       "      <td>2</td>\n",
       "    </tr>\n",
       "  </tbody>\n",
       "</table>\n",
       "</div>"
      ],
      "text/plain": [
       "    game_date team opponent pitcher_id pitcher_hand batter_hand  rest_days  \\\n",
       "0  2023-07-10  ATL      HOU       P015            L           R          2   \n",
       "1  2023-03-31  ATL      NYY       P001            R           R          3   \n",
       "2  2023-10-03  HOU      BOS       P012            R           R          2   \n",
       "3  2023-04-07  NYY      HOU       P002            R           R          2   \n",
       "4  2023-07-11  ATL      NYY       P006            R           R          0   \n",
       "\n",
       "   last_outing_pitches  platoon_advantage  leverage_index  score_diff  \\\n",
       "0                   18                  0            1.07           2   \n",
       "1                   24                  1            0.42           5   \n",
       "2                   36                  1            0.31          -2   \n",
       "3                    7                  1            1.62          -5   \n",
       "4                   17                  1            1.42           2   \n",
       "\n",
       "   scoreless  runs_allowed  \n",
       "0          0             0  \n",
       "1          0             0  \n",
       "2          0             0  \n",
       "3          1             0  \n",
       "4          0             2  "
      ]
     },
     "execution_count": 5,
     "metadata": {},
     "output_type": "execute_result"
    }
   ],
   "source": [
    "import pandas as pd\n",
    "\n",
    "df=pd.read_csv('sample_statcast_like.csv') \n",
    "df.head()"
   ]
  },
  {
   "cell_type": "markdown",
   "id": "b6c04aa8",
   "metadata": {},
   "source": [
    "## Rest vs Scoreless Rate"
   ]
  },
  {
   "cell_type": "code",
   "execution_count": 6,
   "id": "c36a6b89",
   "metadata": {},
   "outputs": [
    {
     "data": {
      "text/plain": [
       "rest_days\n",
       "0    0.316176\n",
       "1    0.341085\n",
       "2    0.376812\n",
       "3    0.257732\n",
       "Name: scoreless, dtype: float64"
      ]
     },
     "execution_count": 6,
     "metadata": {},
     "output_type": "execute_result"
    }
   ],
   "source": [
    "df.groupby('rest_days')['scoreless'].mean()"
   ]
  },
  {
   "cell_type": "markdown",
   "id": "31311106",
   "metadata": {},
   "source": [
    "## Platoon Advantage vs Scoreless Rate"
   ]
  },
  {
   "cell_type": "code",
   "execution_count": 7,
   "id": "9b43db10",
   "metadata": {},
   "outputs": [
    {
     "data": {
      "text/plain": [
       "platoon_advantage\n",
       "0    0.272300\n",
       "1    0.369338\n",
       "Name: scoreless, dtype: float64"
      ]
     },
     "execution_count": 7,
     "metadata": {},
     "output_type": "execute_result"
    }
   ],
   "source": [
    "df.groupby('platoon_advantage')['scoreless'].mean()"
   ]
  }
 ],
 "metadata": {
  "kernelspec": {
   "display_name": "Python 3",
   "language": "python",
   "name": "python3"
  },
  "language_info": {
   "codemirror_mode": {
    "name": "ipython",
    "version": 3
   },
   "file_extension": ".py",
   "mimetype": "text/x-python",
   "name": "python",
   "nbconvert_exporter": "python",
   "pygments_lexer": "ipython3",
   "version": "3.11.9"
  },
  "vscode": {
   "interpreter": {
    "hash": "aee8b7b246df8f9039afb4144a1f6fd8d2ca17a180786b69acc140d282b71a49"
   }
  }
 },
 "nbformat": 4,
 "nbformat_minor": 5
}
